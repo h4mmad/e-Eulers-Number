{
 "cells": [
  {
   "cell_type": "code",
   "execution_count": 2,
   "id": "bd586275",
   "metadata": {},
   "outputs": [],
   "source": [
    "import matplotlib.pyplot as plt\n",
    "import math"
   ]
  },
  {
   "cell_type": "code",
   "execution_count": 3,
   "id": "aac5c9ca",
   "metadata": {},
   "outputs": [],
   "source": [
    "def getAmount(n):\n",
    "    return (1+(1/n))**n"
   ]
  },
  {
   "cell_type": "code",
   "execution_count": 8,
   "id": "ff0fa038",
   "metadata": {},
   "outputs": [],
   "source": [
    "time_periods = list(range(1, 100000))\n",
    "\n",
    "return_amount = list(map(getAmount, time_periods))"
   ]
  },
  {
   "cell_type": "code",
   "execution_count": 9,
   "id": "e948b372",
   "metadata": {},
   "outputs": [
    {
     "name": "stdout",
     "output_type": "stream",
     "text": [
      "1 --> 2.0\n",
      "2 --> 2.25\n",
      "3 --> 2.37037037037037\n",
      "4 --> 2.44140625\n",
      "5 --> 2.4883199999999994\n",
      "6 --> 2.5216263717421135\n",
      "7 --> 2.546499697040712\n",
      "8 --> 2.565784513950348\n",
      "9 --> 2.5811747917131984\n",
      "10 --> 2.5937424601000023\n",
      "11 --> 2.6041990118975287\n",
      "12 --> 2.613035290224676\n",
      "13 --> 2.6206008878857308\n",
      "14 --> 2.6271515563008685\n",
      "15 --> 2.6328787177279187\n",
      "16 --> 2.6379284973666\n",
      "17 --> 2.64241437518311\n",
      "18 --> 2.6464258210976865\n",
      "19 --> 2.650034326640442\n",
      "20 --> 2.653297705144422\n"
     ]
    }
   ],
   "source": [
    "for i in range(0,20):\n",
    "    print(time_periods[i], '-->' ,return_amount[i])"
   ]
  },
  {
   "cell_type": "code",
   "execution_count": 10,
   "id": "211c0b8a",
   "metadata": {},
   "outputs": [
    {
     "data": {
      "text/plain": [
       "[<matplotlib.lines.Line2D at 0x2c6badbea90>]"
      ]
     },
     "execution_count": 10,
     "metadata": {},
     "output_type": "execute_result"
    },
    {
     "data": {
      "image/png": "[encoded data removed]",
      "text/plain": [
       "<Figure size 432x288 with 1 Axes>"
      ]
     },
     "metadata": {
      "needs_background": "light"
     },
     "output_type": "display_data"
    }
   ],
   "source": [
    "plt.plot(time_periods, return_amount)"
   ]
  },
  {
   "cell_type": "markdown",
   "id": "a7ce73af",
   "metadata": {},
   "source": [
    "### e is appox(2.718...) , it is the maximum possible result after continously compounding, 100% growth over one time period"
   ]
  },
  {
   "cell_type": "markdown",
   "id": "2dbaa83d",
   "metadata": {},
   "source": [
    "### If growth rate and time period change (r is the rate, t is time period):"
   ]
  },
  {
   "cell_type": "code",
   "execution_count": 7,
   "id": "c28b93e0",
   "metadata": {},
   "outputs": [],
   "source": [
    "def get_compound(r, t):\n",
    "    return math.e**(r*t)"
   ]
  }
 ],
 "metadata": {
  "interpreter": {
   "hash": "a81a50d5c869a711dbb25828748d5bda640782afcc930c0b014e839f04c1c854"
  },
  "kernelspec": {
   "display_name": "Python 3.9.7 ('base')",
   "language": "python",
   "name": "python3"
  },
  "language_info": {
   "codemirror_mode": {
    "name": "ipython",
    "version": 3
   },
   "file_extension": ".py",
   "mimetype": "text/x-python",
   "name": "python",
   "nbconvert_exporter": "python",
   "pygments_lexer": "ipython3",
   "version": "3.9.7"
  }
 },
 "nbformat": 4,
 "nbformat_minor": 5
}
